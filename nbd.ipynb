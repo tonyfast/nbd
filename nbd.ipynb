{
 "cells": [
  {
   "cell_type": "markdown",
   "metadata": {},
   "source": [
    "The main source for the `nbd` jupyter application and its notebook creation tools.  The nbformat namespace was renamed to simplify the creation of new notebooks.  When someone is using `nbd` they should expect to make one python configuration file that is executed from the command line with \n",
    "\n",
    "        jupyter nbd --config config.py"
   ]
  },
  {
   "cell_type": "code",
   "execution_count": 1,
   "metadata": {},
   "outputs": [],
   "source": [
    "__all__ = 'markdown', 'notebook', 'code', 'raw', 'output', 'reads'"
   ]
  },
  {
   "cell_type": "code",
   "execution_count": 2,
   "metadata": {},
   "outputs": [],
   "source": [
    "from nbconvert.nbconvertapp import NbConvertApp\n",
    "from traitlets import Any  # These should be properly assigned\n",
    "import typing as t\n",
    "\n",
    "class Docs(NbConvertApp):    \n",
    "    loaders = Any(default_value=tuple(), help=\"\"\"\"\"\").tag(config=True)\n",
    "    post = Any(default_value=None, help=\"\"\"\"\"\").tag(config=True)\n",
    "    report = Any(default_value=None, help=\"\"\"\"\"\").tag(config=True)\n",
    "                \n",
    "    def convert_notebooks(self):\n",
    "        super().convert_notebooks() or self.report and [\n",
    "            name and NbConvertApp.convert_single_notebook(\n",
    "                    self, name, io.StringIO(writes(nb))) for name, nb in self.report()]\n",
    "   \n",
    "    def init_single_notebook_resources(self, notebook_filename):\n",
    "        resources = super().init_single_notebook_resources(notebook_filename)\n",
    "        resources['name'] = resources['unique_key'] = notebook_filename\n",
    "        return resources    \n",
    "\n",
    "main = launch_new_instance = Docs.launch_instance"
   ]
  },
  {
   "cell_type": "markdown",
   "metadata": {},
   "source": [
    "Continuing on attributes are appened to the `Docs` class as they become necessary."
   ]
  },
  {
   "cell_type": "markdown",
   "metadata": {},
   "source": [
    "## Callable Exporter"
   ]
  },
  {
   "cell_type": "code",
   "execution_count": 3,
   "metadata": {},
   "outputs": [],
   "source": [
    "from nbformat import reads, io, writes, NotebookNode\n",
    "\n",
    "def identity(path, resources: dict=None, **kw) -> t.Tuple[NotebookNode, dict]:\n",
    "    \"\"\"callable to export ipynb files\"\"\"\n",
    "    return reads(path.read_text(), 4), resources\n",
    "\n",
    "class FuncExporter(__import__('nbconvert').exporters.html.HTMLExporter):\n",
    "    callable = Any(identity)\n",
    "    def from_filename(self, file_name: str, resources: dict=None, **kw) -> t.Tuple[str, dict]:\n",
    "        html, resources = self.from_notebook_node(\n",
    "            *self.callable(Path(file_name), resources, **kw), **kw)\n",
    "        return html, resources"
   ]
  },
  {
   "cell_type": "markdown",
   "metadata": {},
   "source": [
    "Update the exporter each time a new notebook is accessed."
   ]
  },
  {
   "cell_type": "code",
   "execution_count": 4,
   "metadata": {},
   "outputs": [],
   "source": [
    "def convert_single_notebook(self, name, buffer=None):    \n",
    "    path = Path(name)\n",
    "    for exts, exporter in reversed([*RULES, *self.loaders]):  # There is a better way to have default loaders\n",
    "        if path.suffix[1:] in exts:\n",
    "            self.exporter = (\n",
    "                isinstance(exporter, __import__('nbconvert').exporters.base.Exporter)\n",
    "                and exporter or FuncExporter(callable=exporter))\n",
    "            return super(Docs, self).convert_single_notebook(name, buffer)\n",
    "    else:\n",
    "        self.log.warning(\"{} was not converted; there is no rule for the {} suffix.\".format(str(path), path.suffix))\n",
    "\n",
    "Docs.convert_single_notebook = convert_single_notebook"
   ]
  },
  {
   "cell_type": "markdown",
   "metadata": {},
   "source": [
    "## The Loaders.\n",
    "\n",
    "The default loader is notebooks only.  "
   ]
  },
  {
   "cell_type": "code",
   "execution_count": 112,
   "metadata": {},
   "outputs": [],
   "source": [
    "def minimal_style(callable: t.Callable[[str, dict], NotebookNode]\n",
    "                 ) -> t.Callable[[str, dict], t.Tuple[NotebookNode, dict]]:\n",
    "    \"\"\"A minimal style wrapper other file types\"\"\"\n",
    "    def _return_nb(path, resources=None, **kw):\n",
    "        return notebook(cells=[\n",
    "            markdown(\"\"\"# [{}]({})\"\"\".format(str(path), str(path)+'.html')),\n",
    "            callable(path.read_text())]), resources\n",
    "    return _return_nb"
   ]
  },
  {
   "cell_type": "markdown",
   "metadata": {},
   "source": [
    "Notebooks are created using objects in the `nbformat` package; rename these objects to have shorter namespaces."
   ]
  },
  {
   "cell_type": "markdown",
   "metadata": {},
   "source": [
    "### Default loaders"
   ]
  },
  {
   "cell_type": "code",
   "execution_count": 6,
   "metadata": {},
   "outputs": [],
   "source": [
    "from nbformat.v4 import (\n",
    "    new_code_cell     as code, \n",
    "    new_markdown_cell as markdown, \n",
    "    new_notebook      as notebook, \n",
    "    new_raw_cell      as raw, \n",
    "    new_output        as output)\n",
    "\n",
    "RULES = [\n",
    "    (('ipynb',), identity), \n",
    "    (('py', 'pyi'), minimal_style(code)), \n",
    "    (('md', 'markdown'), minimal_style(markdown)), \n",
    "    (('txt',), minimal_style(code))]"
   ]
  },
  {
   "cell_type": "markdown",
   "metadata": {},
   "source": [
    "## Post Processing\n",
    "\n",
    "The standard post processor recieves just the notebook name, this one recieves the exported text, resources, and name."
   ]
  },
  {
   "cell_type": "code",
   "execution_count": 7,
   "metadata": {},
   "outputs": [],
   "source": [
    "class CallablePostProcessor(__import__('nbconvert').postprocessors.PostProcessorBase):\n",
    "    \"\"\"Call an arbitrary function after it has been writen to disk.\"\"\"\n",
    "    callable = Any().tag(config=True)    \n",
    "    def postprocess(self, result: t.Tuple[str, dict, str]) -> None:\n",
    "        html, resources, notebook_name = result\n",
    "        self.callable(html, resources, notebook_name)"
   ]
  },
  {
   "cell_type": "code",
   "execution_count": 8,
   "metadata": {},
   "outputs": [],
   "source": [
    "def init_postprocessor(self):\n",
    "    if self.post: self.postprocessor = CallablePostProcessor(callable=self.post)\n",
    "    else:  super(Docs, self).init_postprocessor()\n",
    "\n",
    "Docs.init_postprocessor = init_postprocessor"
   ]
  },
  {
   "cell_type": "markdown",
   "metadata": {},
   "source": [
    "## Writing \n",
    "\n",
    "The post processor above requires a patched files writer."
   ]
  },
  {
   "cell_type": "code",
   "execution_count": 9,
   "metadata": {},
   "outputs": [],
   "source": [
    "class FilesWriter(__import__('nbconvert').writers.FilesWriter):\n",
    "    \"\"\"Use the same name so configuration works the same.  This patch assures the parent directory exists and returns the output, resources, and name.\n",
    "    \"\"\"\n",
    "    def write(self, output: str, resources: dict, notebook_name: str) -> t.Tuple[str, dict, str]:\n",
    "        \"\"\"Returns a tuple of the output html, resources, and file destination. These\n",
    "        values are available to the post processor.\"\"\"\n",
    "        (lambda path: path.parent.exists() or path.parent.mkdir())(\n",
    "            self.build_directory / Path(notebook_name))\n",
    "        return output, resources, super().write(output, resources, notebook_name)"
   ]
  },
  {
   "cell_type": "markdown",
   "metadata": {},
   "source": [
    "Change the default directory path to docs to be consistent with github pages."
   ]
  },
  {
   "cell_type": "code",
   "execution_count": 10,
   "metadata": {},
   "outputs": [],
   "source": [
    "FilesWriter.build_directory.default_value = 'docs'\n",
    "Docs.writer_class.default_value = 'nbd.FilesWriter'"
   ]
  },
  {
   "cell_type": "markdown",
   "metadata": {},
   "source": [
    "> A Most Basic Index that lists the notebooks."
   ]
  },
  {
   "cell_type": "code",
   "execution_count": 111,
   "metadata": {},
   "outputs": [],
   "source": [
    "def index(data):\n",
    "    def _index(html, resources, destination):\n",
    "        \"\"\"\"\"\"\n",
    "        data.cells.append(markdown(\"\"\"# [{0}]({1})\\n\\n---\\n\\n\"\"\".format(\n",
    "            resources.get('name'),resources.get('name') + destination.split(resources.get('name'), 1)[-1])))\n",
    "    return _index"
   ]
  },
  {
   "cell_type": "markdown",
   "metadata": {},
   "source": [
    "If imports are needed in scope then don't import them."
   ]
  },
  {
   "cell_type": "code",
   "execution_count": null,
   "metadata": {},
   "outputs": [],
   "source": [
    "from pathlib2 import Path"
   ]
  }
 ],
 "metadata": {
  "kernelspec": {
   "display_name": "Python 3",
   "language": "python",
   "name": "python3"
  },
  "language_info": {
   "codemirror_mode": {
    "name": "ipython",
    "version": 3
   },
   "file_extension": ".py",
   "mimetype": "text/x-python",
   "name": "python",
   "nbconvert_exporter": "python",
   "pygments_lexer": "ipython3",
   "version": "3.5.3"
  }
 },
 "nbformat": 4,
 "nbformat_minor": 2
}
