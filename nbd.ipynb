{
 "cells": [
  {
   "cell_type": "markdown",
   "metadata": {},
   "source": [
    "Looking for opinions on:\n",
    "\n",
    "* load which dynamically chooses an loader that turns a file into the notebook format\n",
    "* the `from_export` method on the ExportBase which ingests data produced by from notebook node."
   ]
  },
  {
   "cell_type": "code",
   "execution_count": 1,
   "metadata": {
    "collapsed": true
   },
   "outputs": [],
   "source": [
    "from traitlets.utils.importstring import import_item\n",
    "from pathlib import Path\n",
    "import nbconvert.nbconvertapp\n",
    "import traitlets, io\n",
    "import nbformat\n",
    "from mimetypes import MimeTypes\n",
    "from nbformat.v4 import new_code_cell, new_markdown_cell, new_raw_cell as raw, new_notebook, new_output\n",
    "from nbformat import NotebookNode"
   ]
  },
  {
   "cell_type": "code",
   "execution_count": 2,
   "metadata": {
    "collapsed": true
   },
   "outputs": [],
   "source": [
    "mimetypes = MimeTypes(['documentation.types'])"
   ]
  },
  {
   "cell_type": "markdown",
   "metadata": {},
   "source": [
    "        %%file documentation.types\n",
    "        application/vnd.jupyter ipynb\n",
    "        text/markdown md markdown\n",
    "        text/x-python pyi"
   ]
  },
  {
   "cell_type": "code",
   "execution_count": 3,
   "metadata": {
    "collapsed": true
   },
   "outputs": [],
   "source": [
    "class Loader(traitlets.config.Configurable):\n",
    "    mimetype = traitlets.Enum([str for object in mimetypes.types_map for str in object.values()]).tag(config=True)\n",
    "    loader = traitlets.Any().tag(config=True)\n",
    "    def __call__(self, stream, resources=None, **kw):\n",
    "        return self.loader(stream)"
   ]
  },
  {
   "cell_type": "code",
   "execution_count": 4,
   "metadata": {
    "collapsed": true
   },
   "outputs": [],
   "source": [
    "class ReduceExport(traitlets.config.Configurable):\n",
    "    filename = traitlets.Unicode().tag(config=True)\n",
    "    enabled = traitlets.Bool(True).tag(config=True)\n",
    "    nb = traitlets.Instance('nbformat.NotebookNode').tag(config=True) # notebooknode\n",
    "    \n",
    "    @traitlets.default('nb')\n",
    "    def _default_nb(self): return nbformat.v4.new_notebook()\n",
    "    \n",
    "    @traitlets.default('exporter')\n",
    "    def _default_exporter(self): return nbconvert.exporters.html.HTMLExporter()\n",
    "\n",
    "    def from_render(self, output, resources, **kw): return output, resources"
   ]
  },
  {
   "cell_type": "code",
   "execution_count": 5,
   "metadata": {
    "collapsed": true
   },
   "outputs": [],
   "source": [
    "def load_notebook(str): return nbformat.reads(str, 4)\n",
    "def load_markdown(str): return new_notebook(cells=[new_markdown_cell(str)])\n",
    "def load_code(str): return new_notebook(cells=[new_code_cell(str)])"
   ]
  },
  {
   "cell_type": "code",
   "execution_count": 6,
   "metadata": {},
   "outputs": [],
   "source": [
    "class StaticExporter(nbconvert.exporters.html.HTMLExporter):\n",
    "    _current_mimetype = None\n",
    "\n",
    "    loaders = traitlets.List([\n",
    "        Loader(mimetype='application/vnd.jupyter', loader=load_notebook),\n",
    "        Loader(mimetype='text/x-python', loader=load_code),\n",
    "        Loader(mimetype='text/markdown', loader=load_markdown),]).tag(config=True)\n",
    " \n",
    "    post_render = traitlets.List([]).tag(config=True)\n",
    "    \n",
    "    def from_filename(self, notebook_filename, resources=None, **kw):\n",
    "        type = mimetypes.guess_type(notebook_filename)[0]\n",
    "        for loader in self.loaders:\n",
    "            if loader.mimetype == type:\n",
    "                return self.from_notebook_node(\n",
    "                    loader(\n",
    "                        Path(notebook_filename).read_text()\n",
    "                    ),resources, **kw)\n",
    "                        \n",
    "    def from_notebook_node(self, nb, resources=None, **kw):\n",
    "        output, resources = super().from_notebook_node(nb, resources)\n",
    "        for post_render in self.post_render: \n",
    "            post_render.enabled and post_render.from_render(output, resources)\n",
    "        return output, resources\n",
    "    \n",
    "    def init_notebooks(self, value):\n",
    "        for i, value in super().init_notebooks() or enumerate(self.post_render):\n",
    "            if type(value) is str:\n",
    "                value[i] = import_item(post_render)"
   ]
  },
  {
   "cell_type": "code",
   "execution_count": null,
   "metadata": {
    "collapsed": true
   },
   "outputs": [],
   "source": [
    "class NbdApp(nbconvert.nbconvertapp.NbConvertApp):\n",
    "    def convert_notebooks(self):\n",
    "        for render in super().convert_notebooks() or self.exporter.post_render:\n",
    "            render.enabled and nbconvert.nbconvertapp.NbConvertApp.convert_single_notebook(\n",
    "                self, render.filename, io.StringIO(nbformat.writes(render.nb)))\n",
    "            \n",
    "    def init_single_notebook_resources(self, notebook_filename):\n",
    "        resources = super().init_single_notebook_resources(notebook_filename)\n",
    "        resources['name'] = resources['unique_key'] = notebook_filename\n",
    "        return resources\n",
    "            \n",
    "NbdApp.export_format.default_value = 'nbd.StaticExporter'"
   ]
  },
  {
   "cell_type": "code",
   "execution_count": 7,
   "metadata": {
    "collapsed": true
   },
   "outputs": [],
   "source": [
    "main = launch_new_instance = NbdApp.launch_instance"
   ]
  }
 ],
 "metadata": {
  "kernelspec": {
   "display_name": "Python 3",
   "language": "python",
   "name": "python3"
  },
  "language_info": {
   "codemirror_mode": {
    "name": "ipython",
    "version": 3
   },
   "file_extension": ".py",
   "mimetype": "text/x-python",
   "name": "python",
   "nbconvert_exporter": "python",
   "pygments_lexer": "ipython3",
   "version": "3.5.3"
  }
 },
 "nbformat": 4,
 "nbformat_minor": 2
}
