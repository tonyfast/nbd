{
 "cells": [
  {
   "cell_type": "markdown",
   "metadata": {},
   "source": [
    "# `Docs` built on `nbconvert`"
   ]
  },
  {
   "cell_type": "markdown",
   "metadata": {},
   "source": [
    "* Callable exporter \n",
    "* Callable postprocessor\n",
    "* Nested file writer"
   ]
  },
  {
   "cell_type": "code",
   "execution_count": 4,
   "metadata": {
    "collapsed": true
   },
   "outputs": [],
   "source": [
    "from nbformat.v4 import new_code_cell as code, new_markdown_cell as markdown, new_notebook as notebook, new_raw_cell as raw, new_output as output\n",
    "from nbformat import reads, io, writes\n",
    "from traitlets import Any\n",
    "from nbconvert.nbconvertapp import NbConvertApp\n",
    "from nbconvert.exporters import html\n",
    "from nbconvert import writers, postprocessors\n",
    "from pathlib2 import Path\n",
    "\n",
    "__all__ = 'markdown', 'notebook', 'code', 'raw', 'output', 'reads'"
   ]
  },
  {
   "cell_type": "code",
   "execution_count": 108,
   "metadata": {},
   "outputs": [],
   "source": [
    "class PostProcess(postprocessors.PostProcessorBase):\n",
    "    callable = Any().tag(config=True)    \n",
    "    def postprocess(self, write_result):\n",
    "        html, resources, notebook_name = write_result\n",
    "        self.callable(html, resources, notebook_name)"
   ]
  },
  {
   "cell_type": "code",
   "execution_count": 106,
   "metadata": {
    "collapsed": true
   },
   "outputs": [],
   "source": [
    "class FilesWriter(writers.FilesWriter):\n",
    "    \"\"\"Use the same name so I don't have write an configuration docs.\n",
    "    This monkey patch assures the parent directory exists.\n",
    "    \"\"\"\n",
    "    def write(self, output, resources, notebook_name):\n",
    "        (lambda path: path.parent.exists() or path.parent.mkdir())(\n",
    "            self.build_directory / Path(notebook_name))\n",
    "        super().write(output, resources, notebook_name)\n",
    "        return output, resources, notebook_name\n",
    "        \n",
    "FilesWriter.build_directory.default_value = 'docs'"
   ]
  },
  {
   "cell_type": "code",
   "execution_count": 102,
   "metadata": {},
   "outputs": [],
   "source": [
    "def identity(path, resources=None, **kw):\n",
    "    \"\"\"callable to export ipynb files\"\"\"\n",
    "    return reads(path.read_text(), 4), resources"
   ]
  },
  {
   "cell_type": "markdown",
   "metadata": {},
   "source": [
    "__`FuncExporter`__ is a flexible `nbconvert` exporter. It calls a function that returns\n",
    "a new `nbformat.NotebookNode` object and a resources dictionary.  This exporter is called\n",
    "with the `Docs` `NbConvertApp` app."
   ]
  },
  {
   "cell_type": "code",
   "execution_count": 101,
   "metadata": {},
   "outputs": [],
   "source": [
    "class FuncExporter(html.HTMLExporter):\n",
    "    callable = Any(identity)\n",
    "    def from_filename(self, file_name, resources=None, **kw):\n",
    "        html, resources = self.from_notebook_node(\n",
    "            *self.callable(Path(file_name), resources, **kw), **kw)\n",
    "        return html, resources"
   ]
  },
  {
   "cell_type": "code",
   "execution_count": 103,
   "metadata": {
    "collapsed": true
   },
   "outputs": [],
   "source": [
    "def minimal_style(callable):\n",
    "    \"\"\"A minimal style wrapper other file types\"\"\"\n",
    "    def _return_nb(path, resources=None, **kw):\n",
    "        return notebook(cells=[\n",
    "            markdown(\"\"\"# [{0}]({0})\"\"\".format(str(path))),\n",
    "            callable(path.read_text())]), resources\n",
    "    return _return_nb"
   ]
  },
  {
   "cell_type": "code",
   "execution_count": 107,
   "metadata": {},
   "outputs": [],
   "source": [
    "rules = {\n",
    "    ('ipynb',): identity,\n",
    "    ('py', 'pyi'): minimal_style(code),\n",
    "    ('md', 'markdown'): minimal_style(markdown),\n",
    "    ('txt',): minimal_style(code)}"
   ]
  },
  {
   "cell_type": "code",
   "execution_count": 105,
   "metadata": {},
   "outputs": [],
   "source": [
    "class Docs(NbConvertApp):    \n",
    "    loaders = Any(\n",
    "        default_value=rules, help=\"\"\"\"\"\").tag(config=True)\n",
    "    post = Any(default_value=None).tag(config=True)\n",
    "    report = Any(default_value=None).tag(config=True)\n",
    "\n",
    "    def convert_single_notebook(self, notebook_filename, input_buffer=None):    \n",
    "        path = Path(notebook_filename)\n",
    "        exporter = self.exporter\n",
    "        for exts, callable in self.loaders.items():\n",
    "            if path.suffix[1:] in exts:\n",
    "                self.exporter = FuncExporter(callable=callable)\n",
    "                return super().convert_single_notebook(notebook_filename, input_buffer)\n",
    "        else:\n",
    "            self.exporter = exporter\n",
    "        self.log.warning(\"{} was not converted; there is no rule for the {} suffix.\".format(str(path), path.suffix))\n",
    "            \n",
    "    def convert_notebooks(self):\n",
    "        super().convert_notebooks() or self.report and [\n",
    "            name and NbConvertApp.convert_single_notebook(\n",
    "                    self, name, io.StringIO(writes(nb))) for name, nb in self.report()]\n",
    "   \n",
    "    def init_single_notebook_resources(self, notebook_filename):\n",
    "        resources = super().init_single_notebook_resources(notebook_filename)\n",
    "        resources['name'] = resources['unique_key'] = notebook_filename\n",
    "        return resources    \n",
    "     \n",
    "    def init_writer(self): \n",
    "        self.writer = FilesWriter(config=self.config)\n",
    "        \n",
    "    def init_postprocessor(self):\n",
    "        if self.post: self.postprocessor = PostProcess(callable=self.post)\n",
    "        else:  super().init_postprocessor()\n",
    "        \n",
    "main = launch_new_instance = Docs.launch_instance"
   ]
  },
  {
   "cell_type": "code",
   "execution_count": 2,
   "metadata": {},
   "outputs": [],
   "source": [
    "def index(data):\n",
    "    def _index(html, resources, notebook_name):\n",
    "        \"\"\"\"\"\"\n",
    "        from bs4 import BeautifulSoup\n",
    "        html = BeautifulSoup(html, 'html.parser')    \n",
    "        location = notebook_name+resources['output_extension']\n",
    "        data.cells.append(markdown(\"\"\"[<small>{}</small>]({})\"\"\".format(resources['name'], location)))\n",
    "        data.cells.append(markdown(\n",
    "            \"\\n\".join(\n",
    "                \"\"\"{} [{}]({}#{})\\n\"\"\".format('#'*int(h.name[-1]),h.text, location, h.attrs['id']) \n",
    "                for h in html.select('h1,h2'))))\n",
    "        data.cells[-1].source +=\"\"\"\\n---\\n\\n\"\"\"\n",
    "    return _index"
   ]
  }
 ],
 "metadata": {
  "kernelspec": {
   "display_name": "Python 3",
   "language": "python",
   "name": "python3"
  },
  "language_info": {
   "codemirror_mode": {
    "name": "ipython",
    "version": 3
   },
   "file_extension": ".py",
   "mimetype": "text/x-python",
   "name": "python",
   "nbconvert_exporter": "python",
   "pygments_lexer": "ipython3",
   "version": "3.5.3"
  }
 },
 "nbformat": 4,
 "nbformat_minor": 2
}
