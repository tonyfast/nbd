{
 "cells": [
  {
   "cell_type": "code",
   "execution_count": 1,
   "metadata": {
    "collapsed": true
   },
   "outputs": [],
   "source": [
    "    from nbconvert import exporters\n",
    "    from nbformat.v4 import new_code_cell, new_markdown_cell, new_raw_cell as raw, new_notebook\n",
    "    from mistune import markdown\n",
    "    from bs4 import BeautifulSoup\n",
    "    from argparse import ArgumentParser\n",
    "    from pathlib import Path\n",
    "    from operator import methodcaller\n",
    "    from fnmatch import fnmatch"
   ]
  },
  {
   "cell_type": "markdown",
   "metadata": {},
   "source": [
    "## nbconvert `HTML` exporter\n",
    "\n",
    "`readers` load different file extensions and return notebooks."
   ]
  },
  {
   "cell_type": "code",
   "execution_count": 2,
   "metadata": {
    "collapsed": true
   },
   "outputs": [],
   "source": [
    "    html = exporters.html.HTMLExporter()"
   ]
  },
  {
   "cell_type": "markdown",
   "metadata": {},
   "source": [
    "## Extension Readers"
   ]
  },
  {
   "cell_type": "code",
   "execution_count": 3,
   "metadata": {
    "collapsed": true
   },
   "outputs": [],
   "source": [
    "    readers = {\n",
    "        'ipynb': lambda path: __import__('nbformat').reads(path.read_text(), 4),\n",
    "        'py': lambda path: new_notebook(cells=[new_code_cell(source=path.read_text())]),\n",
    "        'md': lambda path: new_notebook(cells=[new_markdown_cell(source=path.read_text())]),}\n",
    "    readers['markdown'] = readers['md']\n",
    "    readers['pyi'] = readers['py']"
   ]
  },
  {
   "cell_type": "markdown",
   "metadata": {
    "collapsed": true
   },
   "source": [
    "## Arguments"
   ]
  },
  {
   "cell_type": "markdown",
   "metadata": {},
   "source": [
    "### Argument Parser"
   ]
  },
  {
   "cell_type": "code",
   "execution_count": 47,
   "metadata": {
    "collapsed": true
   },
   "outputs": [],
   "source": [
    "    parser = ArgumentParser()\n",
    "    parser.add_argument('--root', default=Path('.'))\n",
    "    parser.add_argument('--to', default=Path('./docs'))\n",
    "    parser.add_argument('--dir', nargs='*', default=tuple())\n",
    "    parser.add_argument('--ignore', nargs='*', default=('ipynb_checkpoints',))\n",
    "    parser.add_argument('--ext', nargs='*', default=tuple(readers))\n",
    "    parser.add_argument('--deep', action='store_true')\n",
    "    parser.add_argument('--url', default='')\n",
    "    parser.add_argument('--id', default='')\n",
    "    parser.add_argument('--name', default='')\n",
    "    defaults = parser.parse_args(tuple())"
   ]
  },
  {
   "cell_type": "markdown",
   "metadata": {},
   "source": [
    "## Main Program"
   ]
  },
  {
   "cell_type": "code",
   "execution_count": 49,
   "metadata": {},
   "outputs": [],
   "source": [
    "    def main(\n",
    "        root=defaults.root, to=defaults.to, dir=defaults.dir, ignore=defaults.ignore,\n",
    "        ext=defaults.ext, deep=defaults.deep, args=defaults\n",
    "    ):\n",
    "        \"\"\"The main nbd function.\"\"\"\n",
    "        root, to, *dir = Path(root), Path(to), *map(Path, dir)\n",
    "        nbs = load(files(root, ext, ignore, dir, deep))\n",
    "        docs = write(nbs, to, root)\n",
    "        index(docs, nbs, root, to, {\n",
    "            key: getattr(args, key) for key in ['name', 'id', 'url']\n",
    "            if getattr(args, key)\n",
    "        })"
   ]
  },
  {
   "cell_type": "markdown",
   "metadata": {},
   "source": [
    "## Public Python Functions"
   ]
  },
  {
   "cell_type": "code",
   "execution_count": 50,
   "metadata": {
    "collapsed": true
   },
   "outputs": [],
   "source": [
    "    def files(root, exts, ignores, dir, deep=False):\n",
    "        \"\"\"Create an object of Paths to \"\"\"\n",
    "        return {\n",
    "            path: path for dir in map(Path, [root, *dir])\n",
    "            for ext in exts for path in methodcaller(\n",
    "                '{}glob'.format(deep and 'r' or ''), '.'.join(('*', ext))\n",
    "            )(dir) \n",
    "            if not any(fnmatch(str(path), ignore) for ignore in ignores)  \n",
    "            and not any(ignore in str(path) for ignore in ignores)\n",
    "        }"
   ]
  },
  {
   "cell_type": "code",
   "execution_count": 51,
   "metadata": {
    "collapsed": true
   },
   "outputs": [],
   "source": [
    "    def parents(file):\n",
    "        \"\"\"Create parent directories if they do no exist.\"\"\"\n",
    "        [_0.mkdir() for _0 in reversed([\n",
    "             _1 for _1 in file.parents if not _1.exists()])]"
   ]
  },
  {
   "cell_type": "code",
   "execution_count": 52,
   "metadata": {
    "collapsed": true
   },
   "outputs": [],
   "source": [
    "    def writeFile(file, nb):\n",
    "        \"\"\"Export an html file from a new notebook\"\"\"\n",
    "        # If the parent directories do not exists then create them.\n",
    "        parents(file)\n",
    "        nb = html.from_notebook_node(nb)[0]\n",
    "        file.write_text(nb)\n",
    "        return nb"
   ]
  },
  {
   "cell_type": "code",
   "execution_count": 53,
   "metadata": {
    "collapsed": true
   },
   "outputs": [],
   "source": [
    "    def write(nbs, to, root):\n",
    "        \"\"\"Orchestrate the writing of the html version of each document.\"\"\"\n",
    "        return {\n",
    "            key: print(key) or writeFile(key, value) \n",
    "            for _, value in nbs.items()\n",
    "            for key in [to/_.relative_to(root).with_suffix(_.suffix+'.html')]}"
   ]
  },
  {
   "cell_type": "code",
   "execution_count": 54,
   "metadata": {
    "collapsed": true
   },
   "outputs": [],
   "source": [
    "    def load(nbs):\n",
    "        \"\"\"Read each file in the documentation.\"\"\"\n",
    "        return {\n",
    "            file: readers[file.suffix.lstrip('.')](file) for file in nbs}"
   ]
  },
  {
   "cell_type": "markdown",
   "metadata": {},
   "source": [
    "#### Open and Close `<div>`s"
   ]
  },
  {
   "cell_type": "code",
   "execution_count": 55,
   "metadata": {
    "collapsed": true
   },
   "outputs": [],
   "source": [
    "    div, _div = lambda s: raw(\"\"\"<div class=\"{}\">\"\"\".format(s)), raw(\"\"\"</div>\"\"\")"
   ]
  },
  {
   "cell_type": "markdown",
   "metadata": {},
   "source": [
    "### Documentation Index\n",
    "\n",
    "A bootstrap `list-group` to display `html` documents."
   ]
  },
  {
   "cell_type": "code",
   "execution_count": 56,
   "metadata": {
    "collapsed": true
   },
   "outputs": [],
   "source": [
    "    iframe = raw(\"\"\"<div class=\"row\">\n",
    "    <iframe class=\"embed-responsive-item\" src=\"readme.ipynb.html\" name=\"docs\"></iframe>\n",
    "    </div>\"\"\")"
   ]
  },
  {
   "cell_type": "code",
   "execution_count": 69,
   "metadata": {
    "collapsed": true
   },
   "outputs": [],
   "source": [
    "    def item(target, to, html, nb):\n",
    "        \"\"\"An item in the index\"\"\"\n",
    "        link = target.relative_to(to)\n",
    "        name = link.with_suffix(link.suffix.rstrip('.html'))\n",
    "        \n",
    "        soup = BeautifulSoup(html, 'lxml')\n",
    "        output = \"\"\"<div class=\"panel panel-default\">\n",
    "  <div class=\"panel-heading\"><a href=\"{}\" target=\"docs\"><h3 class=\"list-group-item-heading\">{}</h3></a></div>\n",
    "  \"\"\".format(str(link), str(name))\n",
    "        \n",
    "        if name.suffix.startswith('.ipynb'):\n",
    "            output += \"\"\"<div class=\"panel-body\">{}</div>\"\"\".format(markdown(\n",
    "                nb.cells and nb.cells[0].source or \"\"))\n",
    "        \n",
    "        output += \"\"\"<ul class='list-group'>\"\"\"\n",
    "        for item in soup.select('h1,h2,h3'):\n",
    "            output+= \"\"\"<li class=\"list-group-item\">\n",
    "        <h{i}><a href=\"{}#{}\" target=\"docs\">{}</a></h{i}></li>\"\"\".format(\n",
    "                str(link), item.attrs['id'], item.text, i=2+int(item.name[-1]))\n",
    "        return output + \"\"\"</ul></div>\"\"\" \n",
    "\n",
    "    def index(docs, nbs, root, to, disqus=None):\n",
    "        \"\"\"Create the index of notebook items\"\"\"\n",
    "        nb = new_notebook(cells=[iframe, div(\"row\"), raw(\"\"\"\"\"\")])\n",
    "        for doc in docs:\n",
    "            source = root / doc.with_suffix(doc.suffix.rstrip('.html')).relative_to(to)\n",
    "            \n",
    "            nb.cells[-1].source += item(doc, to, docs[doc], nbs[source])\n",
    "        \n",
    "        disqus and nb.cells.append(raw(DISQUS(\n",
    "                name=disqus.get('name'), id=disqus.get('id'), url=disqus.get('url'))))\n",
    "            \n",
    "        nb.cells.extend([_div, style])\n",
    "\n",
    "        docs[to/'index.html'] = html.from_notebook_node(nb)[0]\n",
    "        (to/'index.html').write_text(docs[to/'index.html'])\n",
    "        print(to/'index.html')"
   ]
  },
  {
   "cell_type": "markdown",
   "metadata": {},
   "source": [
    "### Custom Styling\n",
    "\n",
    "The changes in style reflect the most basic modifications to create a side-by-side documentation browser."
   ]
  },
  {
   "cell_type": "code",
   "execution_count": 58,
   "metadata": {
    "collapsed": true
   },
   "outputs": [],
   "source": [
    "    style = raw(\"\"\"\n",
    "    <style>\n",
    "        body {\n",
    "            padding: 0 !important;\n",
    "        }\n",
    "        body > #notebook {\n",
    "            margin: 0;\n",
    "            padding: 0;\n",
    "        }\n",
    "        #notebook-container {\n",
    "            width: 100%;\n",
    "            padding: 0;\n",
    "            box-shadow: none;\n",
    "            display: flex;\n",
    "            flex-direction: row;\n",
    "            align-items: stretch;\n",
    "            height: 100vh;\n",
    "            overflow: hidden;\n",
    "        }\n",
    "        #notebook-container .row {\n",
    "            flex: 0;\n",
    "            min-width: 33vw;\n",
    "            max-height: 100%;\n",
    "            overflow-y: auto;\n",
    "            padding: 1rem;\n",
    "        }\n",
    "        \n",
    "        #notebook-container .row:first-child {\n",
    "            flex: 1;\n",
    "            display: flex;\n",
    "            flex-direction: row;\n",
    "        }\n",
    "        #notebook-container .panel {\n",
    "            box-shadow: none;\n",
    "        }\n",
    "        #notebook-container .panel-heading {\n",
    "            overflow-wrap: break-word;\n",
    "            background: none;\n",
    "        }\n",
    "        #notebook-container .row iframe[name=\"docs\"] {\n",
    "            flex: 1;\n",
    "            border: none;\n",
    "        }\n",
    "    </style>\n",
    "    \"\"\")"
   ]
  },
  {
   "cell_type": "code",
   "execution_count": null,
   "metadata": {
    "collapsed": true
   },
   "outputs": [],
   "source": [
    "    "
   ]
  },
  {
   "cell_type": "code",
   "execution_count": 66,
   "metadata": {
    "collapsed": true
   },
   "outputs": [],
   "source": [
    "    DISQUS = html.environment.from_string(\"\"\"<div class=\"row\" id=\"disqus_thread\"></div>\n",
    "    <script>\n",
    "        var disqus_config = function () {\n",
    "            this.page.url = \"{{url}}\";  // Replace PAGE_URL with your page's canonical URL variable\n",
    "            this.page.identifier = \"{{id}}\"; // Replace PAGE_IDENTIFIER with your page's unique identifier variable\n",
    "        };\n",
    "        (function() {  // REQUIRED CONFIGURATION VARIABLE: EDIT THE SHORTNAME BELOW\n",
    "            var d = document, s = d.createElement('script');\n",
    "\n",
    "            s.src = 'https://{{name}}.disqus.com/embed.js';  // IMPORTANT: Replace EXAMPLE with your forum shortname!\n",
    "\n",
    "            s.setAttribute('data-timestamp', +new Date());\n",
    "            (d.head || d.body).appendChild(s);\n",
    "        })();\n",
    "    </script>\n",
    "    <noscript>Please enable JavaScript to view the <a href=\"https://disqus.com/?ref_noscript\" rel=\"nofollow\">comments powered by Disqus.</a></noscript>\"\"\").render"
   ]
  },
  {
   "cell_type": "code",
   "execution_count": null,
   "metadata": {},
   "outputs": [],
   "source": [
    "    if __name__ == '__main__':\n",
    "            args = parser.parse_args()\n",
    "            main(args.root, args.to, args.dir, args.ignore, args.ext, args.deep, args)"
   ]
  },
  {
   "cell_type": "markdown",
   "metadata": {},
   "source": [
    "### Interactive mode\n",
    "\n",
    "Enable the code cell to run `nbd` in interactive mode.\n",
    "    "
   ]
  },
  {
   "cell_type": "code",
   "execution_count": 65,
   "metadata": {},
   "outputs": [
    {
     "name": "stdout",
     "output_type": "stream",
     "text": [
      "docs/nbd.py.html\n",
      "docs/setup.py.html\n",
      "docs/nbd.ipynb.html\n",
      "docs/readme.ipynb.html\n",
      "docs/readme.md.html\n",
      "docs/index.html\n"
     ]
    }
   ],
   "source": [
    "#     defaults.name='tonyfast'\n",
    "#     defaults.url='https://tonyfast.com/nbd'\n",
    "#     defaults.id='nbd'\n",
    "#     main(args=defaults)"
   ]
  }
 ],
 "metadata": {
  "kernelspec": {
   "display_name": "Python 3",
   "language": "python",
   "name": "python3"
  },
  "language_info": {
   "codemirror_mode": {
    "name": "ipython",
    "version": 3
   },
   "file_extension": ".py",
   "mimetype": "text/x-python",
   "name": "python",
   "nbconvert_exporter": "python",
   "pygments_lexer": "ipython3",
   "version": "3.5.3"
  }
 },
 "nbformat": 4,
 "nbformat_minor": 2
}
