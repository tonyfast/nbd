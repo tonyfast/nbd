{
 "cells": [
  {
   "cell_type": "markdown",
   "metadata": {},
   "source": [
    "The __main__ code for the `nbd`ocs."
   ]
  },
  {
   "cell_type": "code",
   "execution_count": 1,
   "metadata": {
    "collapsed": true
   },
   "outputs": [],
   "source": [
    "    from pathlib import Path\n",
    "    from nbconvert import exporters\n",
    "    from operator import methodcaller\n",
    "    from bs4 import BeautifulSoup\n",
    "    from mistune import markdown\n",
    "    from nbformat.v4 import new_code_cell, new_markdown_cell, new_raw_cell as raw, new_notebook\n",
    "    from fnmatch import fnmatch"
   ]
  },
  {
   "cell_type": "markdown",
   "metadata": {},
   "source": [
    "## nbconvert `HTML` exporter\n",
    "\n",
    "`readers` load different file extensions and return notebooks."
   ]
  },
  {
   "cell_type": "code",
   "execution_count": 2,
   "metadata": {
    "collapsed": true
   },
   "outputs": [],
   "source": [
    "    html = exporters.html.HTMLExporter()"
   ]
  },
  {
   "cell_type": "markdown",
   "metadata": {},
   "source": [
    "## Extension Readers"
   ]
  },
  {
   "cell_type": "code",
   "execution_count": 3,
   "metadata": {
    "collapsed": true
   },
   "outputs": [],
   "source": [
    "    readers = {\n",
    "        'ipynb': lambda path: __import__('nbformat').reads(path.read_text(), 4),\n",
    "        'py': lambda path: new_notebook(cells=[new_code_cell(source=path.read_text())]),\n",
    "        'md': lambda path: new_notebook(cells=[new_markdown_cell(source=path.read_text())]),}\n",
    "    readers['markdown'] = readers['md']\n",
    "    readers['pyi'] = readers['py']"
   ]
  },
  {
   "cell_type": "markdown",
   "metadata": {},
   "source": [
    "## Arguments"
   ]
  },
  {
   "cell_type": "code",
   "execution_count": 4,
   "metadata": {
    "collapsed": true
   },
   "outputs": [],
   "source": [
    "    root = Path('/Users/tonyfast/nbd/')\n",
    "    directories = root, '/Users/tonyfast/nbd/usage'\n",
    "    exts = tuple(readers)\n",
    "    ignores = 'ipynb_checkpoints',\n",
    "    deep = False\n",
    "    to = Path('docs')"
   ]
  },
  {
   "cell_type": "markdown",
   "metadata": {},
   "source": [
    "## Public Python Functions"
   ]
  },
  {
   "cell_type": "code",
   "execution_count": 5,
   "metadata": {
    "collapsed": true
   },
   "outputs": [],
   "source": [
    "    def files(directories, ignores=ignores):\n",
    "        \"\"\"Create an object of Paths to \"\"\"\n",
    "        return {\n",
    "            path: path for dir in map(Path, directories)\n",
    "            for ext in exts for path in methodcaller(\n",
    "                '{}glob'.format(deep and 'r' or ''), '.'.join(('*', ext))\n",
    "            )(dir) if not any(fnmatch(str(path), ignore) for ignore in ignores)}"
   ]
  },
  {
   "cell_type": "code",
   "execution_count": 6,
   "metadata": {
    "collapsed": true
   },
   "outputs": [],
   "source": [
    "    def parents(file):\n",
    "        \"\"\"Create parent directories if they do no exist.\"\"\"\n",
    "        [_0.mkdir() for _0 in reversed([\n",
    "             _1 for _1 in file.parents if not _1.exists()])]"
   ]
  },
  {
   "cell_type": "code",
   "execution_count": 7,
   "metadata": {
    "collapsed": true
   },
   "outputs": [],
   "source": [
    "    def writeFile(file, nb):\n",
    "        \"\"\"Export an html file from a new notebook\"\"\"\n",
    "        # If the parent directories do not exists then create them.\n",
    "        parents(file)\n",
    "        nb = html.from_notebook_node(nb)[0]\n",
    "        file.write_text(nb)\n",
    "        return nb"
   ]
  },
  {
   "cell_type": "code",
   "execution_count": 8,
   "metadata": {
    "collapsed": true
   },
   "outputs": [],
   "source": [
    "    def write(nbs, to, root):\n",
    "        \"\"\"Orchestrate the writing of the html version of each document.\"\"\"\n",
    "        return {\n",
    "            key: print(key) or writeFile(key, value) \n",
    "            for _, value in nbs.items()\n",
    "            for key in [to/_.relative_to(root).with_suffix(_.suffix+'.html')]}"
   ]
  },
  {
   "cell_type": "code",
   "execution_count": 9,
   "metadata": {
    "collapsed": true
   },
   "outputs": [],
   "source": [
    "    def load(nbs):\n",
    "        \"\"\"Read each file in the documentation.\"\"\"\n",
    "        return {\n",
    "            file: readers[file.suffix.lstrip('.')](file)\n",
    "            for file in nbs}"
   ]
  },
  {
   "cell_type": "markdown",
   "metadata": {},
   "source": [
    "#### Open and Close `<div>`s"
   ]
  },
  {
   "cell_type": "code",
   "execution_count": 10,
   "metadata": {
    "collapsed": true
   },
   "outputs": [],
   "source": [
    "    div, _div = lambda s: raw(\"\"\"<div class=\"{}\">\"\"\".format(s)), raw(\"\"\"</div>\"\"\")"
   ]
  },
  {
   "cell_type": "markdown",
   "metadata": {},
   "source": [
    "### A List of Documents\n",
    "\n",
    "Create bootstrap `list-group` that displays the headings in `html` renderings of contents."
   ]
  },
  {
   "cell_type": "code",
   "execution_count": 11,
   "metadata": {
    "collapsed": true
   },
   "outputs": [],
   "source": [
    "    iframe = raw(\"\"\"<div class=\"row\">\n",
    "    <iframe class=\"embed-responsive-item\" src=\"readme.ipynb.html\" name=\"docs\"></iframe>\n",
    "    </div>\"\"\")"
   ]
  },
  {
   "cell_type": "code",
   "execution_count": 12,
   "metadata": {
    "collapsed": true
   },
   "outputs": [],
   "source": [
    "    def item(target, html, nb):\n",
    "        \"\"\"An item in the index\"\"\"\n",
    "        link = target.relative_to(to)\n",
    "        name = link.with_suffix(link.suffix.rstrip('.html'))\n",
    "        \n",
    "        soup = BeautifulSoup(html, 'lxml')\n",
    "        output = \"\"\"<div class=\"panel panel-default\">\n",
    "  <div class=\"panel-heading\"><a href=\"{}\" target=\"docs\"><h3 class=\"list-group-item-heading\">{}</h3></a></div>\n",
    "  \"\"\".format(str(link), str(name))\n",
    "        \n",
    "        if nb.cells[0].cell_type == 'markdown':\n",
    "            output += \"\"\"<div class=\"panel-body\">{}</div>\"\"\".format(markdown(nb.cells[0].source))\n",
    "        \n",
    "        output += \"\"\"<ul class='list-group'>\"\"\"\n",
    "        for item in soup.select('h1,h2,h3'):\n",
    "            output+= \"\"\"<li class=\"list-group-item\">\n",
    "        <h4><a href=\"{}#{}\" target=\"docs\">{}</a></h4></li>\"\"\".format(str(link), item.attrs['id'], item.text)\n",
    "        return output + \"\"\"</ul></div>\"\"\" \n",
    "\n",
    "    def index(docs, root, to):\n",
    "        \"\"\"Create the index of notebook items\"\"\"\n",
    "        nb = new_notebook(cells=[iframe, div(\"row\"), raw(\"\"\"\"\"\")])\n",
    "        for doc in docs:\n",
    "            source = root / doc.with_suffix(doc.suffix.rstrip('.html')).relative_to(to)\n",
    "            nb.cells[-1].source += item(doc, docs[doc], nbs[source])\n",
    "        nb.cells.extend([_div, style])\n",
    "        docs[to/'index.html'] = html.from_notebook_node(nb)[0]\n",
    "        (to/'index.html').write_text(docs[to/'index.html'])\n",
    "        print(to/'index.html')"
   ]
  },
  {
   "cell_type": "markdown",
   "metadata": {},
   "source": [
    "### Custom Styling\n",
    "\n",
    "The changes in style reflect the most basic modifications to create a side-by-side documentation browser."
   ]
  },
  {
   "cell_type": "code",
   "execution_count": 13,
   "metadata": {
    "collapsed": true
   },
   "outputs": [],
   "source": [
    "    style = raw(\"\"\"\n",
    "    <style>\n",
    "        body {\n",
    "            padding: 0 !important;\n",
    "        }\n",
    "        body > #notebook {\n",
    "            margin: 0;\n",
    "            padding: 0;\n",
    "        }\n",
    "        #notebook-container {\n",
    "            width: 100%;\n",
    "            padding: 0;\n",
    "            box-shadow: none;\n",
    "            display: flex;\n",
    "            flex-direction: row;\n",
    "            align-items: stretch;\n",
    "            height: 100vh;\n",
    "            overflow: hidden;\n",
    "        }\n",
    "        #notebook-container .row {\n",
    "            flex: 0;\n",
    "            min-width: 33vw;\n",
    "            max-height: 100%;\n",
    "            overflow-y: auto;\n",
    "            padding: 1rem;\n",
    "        }\n",
    "        \n",
    "        #notebook-container .row:first-child {\n",
    "            flex: 1;\n",
    "            overflow-y: hidden;\n",
    "            display: flex;\n",
    "            flex-direction: row;\n",
    "        }\n",
    "        #notebook-container .panel {\n",
    "            box-shadow: none;\n",
    "        }\n",
    "        #notebook-container .panel-heading {\n",
    "            overflow-wrap: break-word;\n",
    "            background: none;\n",
    "        }\n",
    "        #notebook-container .row iframe[name=\"docs\"] {\n",
    "            flex: 1;\n",
    "            border: none;\n",
    "        }\n",
    "    </style>\n",
    "    \"\"\")"
   ]
  },
  {
   "cell_type": "code",
   "execution_count": 14,
   "metadata": {},
   "outputs": [
    {
     "name": "stdout",
     "output_type": "stream",
     "text": [
      "docs/nbd.ipynb.html\n",
      "docs/readme.ipynb.html\n",
      "docs/usage/Untitled.ipynb.html\n",
      "docs/index.html\n"
     ]
    }
   ],
   "source": [
    "    nbs = files(directories)\n",
    "    nbs = load(nbs)\n",
    "    docs = write(nbs, to, root)\n",
    "    index(docs, root, to)"
   ]
  }
 ],
 "metadata": {
  "kernelspec": {
   "display_name": "Python 3",
   "language": "python",
   "name": "python3"
  },
  "language_info": {
   "codemirror_mode": {
    "name": "ipython",
    "version": 3
   },
   "file_extension": ".py",
   "mimetype": "text/x-python",
   "name": "python",
   "nbconvert_exporter": "python",
   "pygments_lexer": "ipython3",
   "version": "3.5.3"
  }
 },
 "nbformat": 4,
 "nbformat_minor": 2
}
