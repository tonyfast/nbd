{
 "cells": [
  {
   "cell_type": "markdown",
   "metadata": {},
   "source": [
    "## Development\n",
    "\n",
    "Jupyter notebook are the primary mode of development.  The bash script below\n",
    "\n",
    "1. Creates the `readme.md` document for Github.\n",
    "2. Converts `nbd` to a Python sript\n",
    "3. Creates documentation for the notebooks in `nbd`."
   ]
  },
  {
   "cell_type": "code",
   "execution_count": 1,
   "metadata": {},
   "outputs": [
    {
     "name": "stdout",
     "output_type": "stream",
     "text": [
      "~/nbd ~/nbd/usage\n",
      "docs/usage/.ipynb_checkpoints/styleguide-checkpoint.ipynb.html\n",
      "docs/usage/styleguide.ipynb.html\n",
      "docs/.ipynb_checkpoints/readme-checkpoint.ipynb.html\n",
      "docs/usage/basic.ipynb.html\n",
      "docs/usage/development.ipynb.html\n",
      "docs/nbd.ipynb.html\n",
      "docs/.ipynb_checkpoints/nbd-checkpoint.ipynb.html\n",
      "docs/.ipynb_checkpoints/Untitled-checkpoint.ipynb.html\n",
      "docs/usage/.ipynb_checkpoints/development-checkpoint.ipynb.html\n",
      "docs/usage/.ipynb_checkpoints/about-checkpoint.ipynb.html\n",
      "docs/usage/.ipynb_checkpoints/arguments-checkpoint.ipynb.html\n",
      "docs/usage/.ipynb_checkpoints/basic-checkpoint.ipynb.html\n",
      "docs/readme.ipynb.html\n",
      "~/nbd/usage\n"
     ]
    },
    {
     "name": "stderr",
     "output_type": "stream",
     "text": [
      "[NbConvertApp] Converting notebook readme.ipynb to markdown\n",
      "[NbConvertApp] Writing 1470 bytes to readme.md\n",
      "[NbConvertApp] Converting notebook nbd.ipynb to python\n",
      "[NbConvertApp] Writing 8921 bytes to nbd.py\n"
     ]
    }
   ],
   "source": [
    "    %%bash\n",
    "    pushd ..\n",
    "    jupyter nbconvert --to markdown readme.ipynb\n",
    "    jupyter nbconvert --to python nbd.ipynb\n",
    "    python -m nbd --deep --ext ipynb --theme paper --drop-output --ignore Copy --name tonyfast --url https://tonyfast/nbd\n",
    "    popd"
   ]
  },
  {
   "cell_type": "code",
   "execution_count": 2,
   "metadata": {
    "collapsed": true
   },
   "outputs": [],
   "source": []
  }
 ],
 "metadata": {
  "kernelspec": {
   "display_name": "Python 3",
   "language": "python",
   "name": "python3"
  },
  "language_info": {
   "codemirror_mode": {
    "name": "ipython",
    "version": 3
   },
   "file_extension": ".py",
   "mimetype": "text/x-python",
   "name": "python",
   "nbconvert_exporter": "python",
   "pygments_lexer": "ipython3",
   "version": "3.5.3"
  }
 },
 "nbformat": 4,
 "nbformat_minor": 2
}
