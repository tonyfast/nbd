{
 "cells": [
  {
   "cell_type": "markdown",
   "metadata": {},
   "source": [
    "# `nbd` styleguide\n",
    "\n",
    "Opinions in software are unavoidable.  `nbd` has a few rules influenced by other documentation and reporting technologies.  This document explains opinions and their origins.  Hopefully, they are no big deal."
   ]
  },
  {
   "cell_type": "markdown",
   "metadata": {},
   "source": [
    "> Disclaimer: The author has <big>ZERO</big> experience with sphinx or pandoc.  This work is largely influenced by the static site generator [Jekyll](https://jekyllrb.com) combined with [`nbconvert`](nbconvert.readthedocs.io)."
   ]
  },
  {
   "cell_type": "markdown",
   "metadata": {},
   "source": [
    "## The First Cell\n",
    "\n",
    "The first cell will appear in the `nbd` documentation index whether it is code or markdown.\n",
    "\n",
    "The first cell of the notebook should be informative in many contexts, across many devices.  The first cell could be:\n",
    "\n",
    "* A hypothesis.\n",
    "* An abstract.\n",
    "* A title.\n",
    "* Attribution.\n",
    "* A list of references.\n",
    "* The first slide of presentation.\n",
    "* Descriptive imports for collaborators."
   ]
  },
  {
   "cell_type": "markdown",
   "metadata": {},
   "source": [
    "## Headers\n",
    "\n",
    "Headers <big>1</big>, <big>2</big>, & <big>3</big> are recorded in the documentation index after each notebook is transformed to `html`.  [Slate](https://github.com/lord/slate) is a popular documentation tool that chooses [the same opinion](https://github.com/lord/slate/wiki/Markdown-Syntax#headers); it's a good one."
   ]
  },
  {
   "cell_type": "markdown",
   "metadata": {},
   "source": [
    "## `custom.css` Styling \n",
    "\n",
    "All custom styles are placed into `custom.css`. `nbconvert` automatically \n",
    "creates a `link` tag to `custom.css`.\n",
    "\n",
    "> [Customizing you IPython slides](http://www.damian.oquanta.info/posts/customizing-your-ipython-slides.html)"
   ]
  },
  {
   "cell_type": "markdown",
   "metadata": {},
   "source": [
    "## Theming\n",
    "\n",
    "Theme is provided by the free boot\n",
    "strap theme site [`bootswatch`](bootswatch.com). Add any bootswatch alias after the `--theme` argument to choose your theme.\n",
    "\n",
    "    python -m nbd --theme readable\n",
    "    \n",
    "An `@import` statement is added to the `custom.css`."
   ]
  },
  {
   "cell_type": "markdown",
   "metadata": {},
   "source": [
    "## References\n",
    "\n",
    "0. codo\n",
    "0. nbconvert\n",
    "0. slate\n",
    "0. bootstrap\n",
    "0. [bootswatch.com](bootswatch.com)"
   ]
  }
 ],
 "metadata": {
  "kernelspec": {
   "display_name": "Python 3",
   "language": "python",
   "name": "python3"
  },
  "language_info": {
   "codemirror_mode": {
    "name": "ipython",
    "version": 3
   },
   "file_extension": ".py",
   "mimetype": "text/x-python",
   "name": "python",
   "nbconvert_exporter": "python",
   "pygments_lexer": "ipython3",
   "version": "3.5.3"
  }
 },
 "nbformat": 4,
 "nbformat_minor": 2
}
