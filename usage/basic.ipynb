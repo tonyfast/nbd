{
 "cells": [
  {
   "cell_type": "markdown",
   "metadata": {},
   "source": [
    "# Basic `nbd` usage\n",
    "\n",
    "The most basic use of `nbd` is note big deal.  Simply navigate to a directory of interest then somehow execute "
   ]
  },
  {
   "cell_type": "markdown",
   "metadata": {},
   "source": [
    "## Command line\n",
    "\n",
    "    "
   ]
  },
  {
   "cell_type": "code",
   "execution_count": 12,
   "metadata": {},
   "outputs": [
    {
     "name": "stdout",
     "output_type": "stream",
     "text": [
      "docs/readme.ipynb.html\n",
      "docs/nbd.ipynb.html\n",
      "docs/nbd.py.html\n",
      "docs/readme.md.html\n",
      "docs/setup.py.html\n",
      "Traceback (most recent call last):\n",
      "  File \"/Users/tonyfast/anaconda/lib/python3.5/runpy.py\", line 193, in _run_module_as_main\n",
      "    \"__main__\", mod_spec)\n",
      "  File \"/Users/tonyfast/anaconda/lib/python3.5/runpy.py\", line 85, in _run_code\n",
      "    exec(code, run_globals)\n",
      "  File \"/Users/tonyfast/nbd/nbd.py\", line 267, in <module>\n",
      "    args.ignore or ignores, args.ext or exts, args.deep)\n",
      "  File \"/Users/tonyfast/nbd/nbd.py\", line 90, in main\n",
      "    index(docs, nbs, root, to)\n",
      "  File \"/Users/tonyfast/nbd/nbd.py\", line 199, in index\n",
      "    docs[to/'index.html'] = html.from_notebook_node(nb)[0]\n",
      "TypeError: unsupported operand type(s) for /: 'str' and 'str'\n"
     ]
    }
   ],
   "source": [
    "!python -m nbd --root .. --to docs"
   ]
  },
  {
   "cell_type": "markdown",
   "metadata": {
    "collapsed": true
   },
   "source": [
    "## Adding Extensions."
   ]
  }
 ],
 "metadata": {
  "kernelspec": {
   "display_name": "Python 3",
   "language": "python",
   "name": "python3"
  },
  "language_info": {
   "codemirror_mode": {
    "name": "ipython",
    "version": 3
   },
   "file_extension": ".py",
   "mimetype": "text/x-python",
   "name": "python",
   "nbconvert_exporter": "python",
   "pygments_lexer": "ipython3",
   "version": "3.5.3"
  }
 },
 "nbformat": 4,
 "nbformat_minor": 2
}
