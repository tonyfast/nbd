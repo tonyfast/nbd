{
 "cells": [
  {
   "cell_type": "markdown",
   "metadata": {},
   "source": [
    "# Basic `nbd` usage\n",
    "\n",
    "The most basic use of `nbd` is note big deal.  Simply navigate to a directory of interest then somehow execute the Python module\n",
    "\n",
    "    python -m nbd "
   ]
  },
  {
   "cell_type": "code",
   "execution_count": 15,
   "metadata": {},
   "outputs": [
    {
     "name": "stdout",
     "output_type": "stream",
     "text": [
      "docs/about.ipynb.html\n",
      "docs/arguments.ipynb.html\n",
      "docs/styleguide.ipynb.html\n",
      "docs/basic.ipynb.html\n",
      "docs/development.ipynb.html\n"
     ]
    }
   ],
   "source": [
    "    %%bash\n",
    "    python -m nbd "
   ]
  }
 ],
 "metadata": {
  "kernelspec": {
   "display_name": "Python 3",
   "language": "python",
   "name": "python3"
  },
  "language_info": {
   "codemirror_mode": {
    "name": "ipython",
    "version": 3
   },
   "file_extension": ".py",
   "mimetype": "text/x-python",
   "name": "python",
   "nbconvert_exporter": "python",
   "pygments_lexer": "ipython3",
   "version": "3.5.3"
  }
 },
 "nbformat": 4,
 "nbformat_minor": 2
}
