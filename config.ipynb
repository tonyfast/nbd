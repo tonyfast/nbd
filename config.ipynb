{
 "cells": [
  {
   "cell_type": "markdown",
   "metadata": {},
   "source": [
    "# A Pure Configuration Approach to Docs"
   ]
  },
  {
   "cell_type": "markdown",
   "metadata": {},
   "source": [
    "Rely on `nbformat` for the schema."
   ]
  },
  {
   "cell_type": "markdown",
   "metadata": {},
   "source": [
    "## Data Objects\n",
    "\n",
    "Create data objects directly in the configuration file.  These will be appended and written later."
   ]
  },
  {
   "cell_type": "code",
   "execution_count": 5,
   "metadata": {},
   "outputs": [],
   "source": [
    "from pathlib2 import Path\n",
    "data = __import__('nbformat').reads(Path('template.ipynb').read_text(), 4)\n",
    "last = data.cells.pop(-1)"
   ]
  },
  {
   "cell_type": "code",
   "execution_count": 6,
   "metadata": {},
   "outputs": [],
   "source": [
    "from nbformat.v4 import *\n",
    "def basic(html, resources, notebook_name):\n",
    "    from bs4 import BeautifulSoup\n",
    "    html = BeautifulSoup(html, 'html.parser')    \n",
    "    location = notebook_name+resources['output_extension']\n",
    "    data.cells.append(new_markdown_cell(\"\"\"[<small>{}</small>]({})\"\"\".format(resources['name'], location)))\n",
    "    data.cells.append(new_markdown_cell(\n",
    "        \"\\n\".join(\n",
    "            \"\"\"{} [{}]({}#{})\\n\"\"\".format('#'*int(h.name[-1]),h.text, location, h.attrs['id']) \n",
    "            for h in html.select('h1,h2'))))\n",
    "    data.cells[-1].source +=\"\"\"\\n---\\n\\n\"\"\""
   ]
  },
  {
   "cell_type": "markdown",
   "metadata": {},
   "source": [
    "## Creating custom reports"
   ]
  },
  {
   "cell_type": "code",
   "execution_count": 7,
   "metadata": {},
   "outputs": [],
   "source": [
    "def report():\n",
    "    data.cells.append(new_markdown_cell(\n",
    "        \"\"\"### [Schema](schema.html)\"\"\"\n",
    "    ))\n",
    "    data.cells.append(last)\n",
    "    yield 'index', data\n",
    "    yield 'schema', new_notebook(cells=[\n",
    "        new_markdown_cell(\"\"\"![classes_nbd.png](classes_nbd.png)\"\"\")])"
   ]
  },
  {
   "cell_type": "code",
   "execution_count": 8,
   "metadata": {},
   "outputs": [],
   "source": [
    "try:\n",
    "    c\n",
    "except NameError:\n",
    "    c= __import__('traitlets').config.Config()\n",
    "\n",
    "c.FilesWriter.build_directory = 'docs'\n",
    "c.Docs.update(\n",
    "    post=basic, \n",
    "    report=report,\n",
    "    notebooks=[\n",
    "        'nbd.ipynb',\n",
    "        'config.ipynb',\n",
    "        'config.py',\n",
    "        'template.ipynb',\n",
    "        'readme.md', 'flake8.txt'])"
   ]
  }
 ],
 "metadata": {
  "kernelspec": {
   "display_name": "Python 3",
   "language": "python",
   "name": "python3"
  },
  "language_info": {
   "codemirror_mode": {
    "name": "ipython",
    "version": 3
   },
   "file_extension": ".py",
   "mimetype": "text/x-python",
   "name": "python",
   "nbconvert_exporter": "python",
   "pygments_lexer": "ipython3",
   "version": "3.5.3"
  }
 },
 "nbformat": 4,
 "nbformat_minor": 2
}
