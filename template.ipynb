{
 "cells": [
  {
   "cell_type": "markdown",
   "metadata": {},
   "source": [
    "# `nbd` : static documentation using the jupyter stack.\n",
    "\n",
    "It's no big deal, but it works.  Convert everything to `nbformat` and export all the documents.\n",
    "\n",
    "`pip install git+`<code><a href=\"https://github.com/tonyfast/nbd/\">https://github.com/tonyfast/nbd/</a></code>\n",
    "\n",
    "# [demo](demo/index.html)"
   ]
  },
  {
   "cell_type": "markdown",
   "metadata": {},
   "source": [
    "---\n",
    "\n",
    "Thanks for having a l👀k."
   ]
  }
 ],
 "metadata": {
  "kernelspec": {
   "display_name": "Python 3",
   "language": "python",
   "name": "python3"
  },
  "language_info": {
   "codemirror_mode": {
    "name": "ipython",
    "version": 3
   },
   "file_extension": ".py",
   "mimetype": "text/x-python",
   "name": "python",
   "nbconvert_exporter": "python",
   "pygments_lexer": "ipython3",
   "version": "3.5.3"
  }
 },
 "nbformat": 4,
 "nbformat_minor": 2
}
