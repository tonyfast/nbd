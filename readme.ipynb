{
 "cells": [
  {
   "cell_type": "markdown",
   "metadata": {},
   "source": [
    "# It's `no big deal`, it just works.\n",
    "\n",
    "Configurable static documentation based on [`nbformat`]().\n",
    "\n",
    "### Get it from Github\n",
    "\n",
    "`pip install git+`<code><a href=\"https://github.com/tonyfast/nbd/\">https://github.com/tonyfast/nbd/</a></code>\n"
   ]
  },
  {
   "cell_type": "markdown",
   "metadata": {},
   "source": [
    "## Configuring you documentation\n",
    "\n",
    "Use any tool you like."
   ]
  },
  {
   "cell_type": "code",
   "execution_count": 11,
   "metadata": {},
   "outputs": [
    {
     "name": "stdout",
     "output_type": "stream",
     "text": [
      "[NbConvertApp] Converting notebook config.ipynb to python\r\n",
      "[NbConvertApp] Writing 1572 bytes to ./config.py\r\n",
      "[NbConvertApp] Converting notebook nbd.ipynb to python\r\n",
      "[NbConvertApp] Writing 4076 bytes to ./nbd.py\r\n",
      "parsing nbd.py...\r\n",
      "[NbConvertApp] Converting notebook readme.ipynb to markdown\r\n",
      "[NbConvertApp] Writing 997 bytes to readme.md\r\n",
      "[Docs] Converting notebook nbd.ipynb to html\r\n",
      "[Docs] Writing 269790 bytes to docs/nbd.ipynb.html\r\n",
      "[Docs] Converting notebook config.ipynb to html\r\n",
      "[Docs] Writing 258532 bytes to docs/config.ipynb.html\r\n",
      "[Docs] Converting notebook config.py to html\r\n",
      "[Docs] Writing 257209 bytes to docs/config.py.html\r\n",
      "[Docs] Converting notebook template.ipynb to html\r\n",
      "[Docs] Writing 249736 bytes to docs/template.ipynb.html\r\n",
      "[Docs] Converting notebook readme.md to html\r\n",
      "[Docs] Writing 252976 bytes to docs/readme.md.html\r\n",
      "[Docs] Converting notebook flake8.txt to html\r\n",
      "[Docs] Writing 368916 bytes to docs/flake8.txt.html\r\n",
      "[Docs] Converting notebook into html\r\n",
      "[Docs] Writing 255079 bytes to docs/index.html\r\n",
      "[Docs] Converting notebook into html\r\n",
      "[Docs] Writing 249084 bytes to docs/schema.html\r\n"
     ]
    }
   ],
   "source": [
    "!rm -rf docs/**.htl\n",
    "!jupyter nbconvert --to python config.ipynb nbd.ipynb --output-dir .\n",
    "!flake8 nbd.py --output-file=flake8.txt\n",
    "!pyreverse -o png -p nbd nbd.py\n",
    "!jupyter nbconvert --to markdown readme.ipynb\n",
    "!jupyter nbd --config config.py\n",
    "!mv classes_nbd.png nbd.py config.py flake8.txt docs"
   ]
  },
  {
   "cell_type": "markdown",
   "metadata": {},
   "source": [
    "## Motivation\n",
    "\n",
    "* An Ipython backed make configuration system"
   ]
  },
  {
   "cell_type": "markdown",
   "metadata": {},
   "source": [
    "### HTML Views\n",
    "\n",
    "* [Raw Git](https://rawgit.com/tonyfast/nbd/master/docs/index.html)\n",
    "* [Github Pages](https://tonyfast.github.io/nbd)\n",
    "\n",
    "### Notebook Views\n",
    "\n",
    "* [nbviewer](http://nbviewer.jupyter.org/github/tonyfast/nbd/blob/master/readme.ipynb)\n",
    "* [github](https://github.com/tonyfast/nbd/blob/master/usage/readme.ipynb)"
   ]
  },
  {
   "cell_type": "code",
   "execution_count": null,
   "metadata": {},
   "outputs": [],
   "source": []
  }
 ],
 "metadata": {
  "kernelspec": {
   "display_name": "Python 3",
   "language": "python",
   "name": "python3"
  },
  "language_info": {
   "codemirror_mode": {
    "name": "ipython",
    "version": 3
   },
   "file_extension": ".py",
   "mimetype": "text/x-python",
   "name": "python",
   "nbconvert_exporter": "python",
   "pygments_lexer": "ipython3",
   "version": "3.5.3"
  }
 },
 "nbformat": 4,
 "nbformat_minor": 2
}
