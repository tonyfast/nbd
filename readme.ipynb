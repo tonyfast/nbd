{
 "cells": [
  {
   "cell_type": "markdown",
   "metadata": {},
   "source": [
    "# `nbd`ocumentation \n",
    "\n",
    "[<big>NBD</big>](https://github.com/tonyfast/nbd) creates static documentation for Jupyter noteb👀ks. \n",
    "\n",
    "> Create documentation from a full featured python script using the nbconvert configuration system."
   ]
  },
  {
   "cell_type": "markdown",
   "metadata": {},
   "source": [
    "Below is a sample configuration file to create an index file."
   ]
  },
  {
   "cell_type": "code",
   "execution_count": 40,
   "metadata": {},
   "outputs": [
    {
     "name": "stdout",
     "output_type": "stream",
     "text": [
      "Overwriting nbd_config.py\n"
     ]
    }
   ],
   "source": [
    "%%file nbd_config.py\n",
    "from nbd import ReduceExport\n",
    "from nbconvert.exporters.html import HTMLExporter \n",
    "from nbformat.v4 import new_markdown_cell\n",
    "\n",
    "c.NbConvertApp.notebooks = ['readme.md', 'readme.ipynb']\n",
    "c.TemplateExporter.template_path = ['templates']\n",
    "c.FilesWriter.build_directory = 'docs'\n",
    "\n",
    "# shit = HTMLExporter(config=c).environment.get_template('shit')\n",
    "\n",
    "class SoupyIndex(ReduceExport):\n",
    "    def add_entry(self, item, resources):\n",
    "        return \"\"\"{header} [{title}]({href})\\n\"\"\".format(\n",
    "            header='#'*(int(item.name[-1]) + 3),\n",
    "            title=item.text,\n",
    "            href='/'.join([\n",
    "                resources.get('name')+resources.get('output_extension')\n",
    "            ])+'#'+str(item.attrs['id']))\n",
    "    \n",
    "    def from_render(self, output, resources, **kw):\n",
    "        from bs4 import BeautifulSoup\n",
    "        soup = BeautifulSoup(output, 'html.parser')\n",
    "        \n",
    "        self.nb.cells.append(\n",
    "            new_markdown_cell('\\n'.join([\n",
    "                self.add_entry(item, resources)\n",
    "                for item in soup.select('h1,h2,h3')])))\n",
    "        \n",
    "        return output, resources\n",
    "c.StaticExporter.post_render = [SoupyIndex(filename='index')]"
   ]
  },
  {
   "cell_type": "code",
   "execution_count": null,
   "metadata": {},
   "outputs": [],
   "source": [
    "%%bash\n",
    "rm -rf docs\n",
    "mkdir docs\n",
    "jupyter nbconvert --to python nbd.ipynb\n",
    "jupyter nbconvert --to markdown readme.ipynb\n",
    "jupyter nbd --config nbd_config.py\n",
    "cp custom.css docs/\n",
    "ls docs/"
   ]
  },
  {
   "cell_type": "markdown",
   "metadata": {},
   "source": [
    "### HTML Views\n",
    "\n",
    "* [Raw Git](https://rawgit.com/tonyfast/nbd/master/docs/index.html)\n",
    "* [Github Pages](https://tonyfast.github.io/nbd)\n",
    "\n",
    "### Notebook Views\n",
    "\n",
    "* [nbviewer](http://nbviewer.jupyter.org/github/tonyfast/nbd/blob/master/readme.ipynb)\n",
    "* [github](https://github.com/tonyfast/nbd/blob/master/usage/readme.ipynb)"
   ]
  }
 ],
 "metadata": {
  "kernelspec": {
   "display_name": "Python 3",
   "language": "python",
   "name": "python3"
  },
  "language_info": {
   "codemirror_mode": {
    "name": "ipython",
    "version": 3
   },
   "file_extension": ".py",
   "mimetype": "text/x-python",
   "name": "python",
   "nbconvert_exporter": "python",
   "pygments_lexer": "ipython3",
   "version": "3.5.3"
  }
 },
 "nbformat": 4,
 "nbformat_minor": 2
}
