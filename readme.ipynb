{
 "cells": [
  {
   "cell_type": "markdown",
   "metadata": {},
   "source": [
    "# `nbd`ocumentation\n",
    "* [`github`](https://github.com/tonyfast/nbd)\n",
    "\n",
    "`nbd` creates bare-bones documentation for Jupyter notebooks & _like_ every other kinda file. `nbd` creates a static html views of notebooks documents and code. This minimal documentation _should_ work on most file systems and web servers.  "
   ]
  },
  {
   "cell_type": "code",
   "execution_count": 60,
   "metadata": {},
   "outputs": [
    {
     "name": "stdout",
     "output_type": "stream",
     "text": [
      "docs/setup.py.html\n",
      "docs/readme.md.html\n",
      "docs/nbd.ipynb.html\n",
      "docs/nbd.py.html\n",
      "docs/usage/basic.ipynb.html\n",
      "docs/readme.ipynb.html\n"
     ]
    }
   ],
   "source": [
    "    %%bash\n",
    "#     pip install https://github.com/tonyfast/nbd\n",
    "    python -m nbd --deep"
   ]
  },
  {
   "cell_type": "markdown",
   "metadata": {},
   "source": [
    "## The First Markdown Cell\n",
    "\n",
    "`nbd` takes the opinion that the 🥇st cell is the abstract or descriptor of a notebook."
   ]
  },
  {
   "cell_type": "markdown",
   "metadata": {},
   "source": [
    "## How it works\n",
    "\n",
    "Every file, even non-notebooks are transformed into __NotebookNode__s that obey the __nbformat.v4__ schemas; __nbconvert__ transforms the notebook nodes to static html documents. `nbd` should not using any special __nbconvert__ templates.\n",
    "\n",
    "## Why\n",
    "\n",
    "Because I make a lot of notebooks that combine Python, PySpark, HTML, CoffeeScript, and Markdown.  The static view of the document is how must folks experience your work.  Static documents that contain data-driven narratives can accelerate development within multifunctional teams.\n",
    "\n",
    "## Why Bootstrap?\n",
    "\n",
    "Bootstrap is resilient and it ships with the default `--to html` __nbconvert__ converter."
   ]
  },
  {
   "cell_type": "markdown",
   "metadata": {},
   "source": [
    "### Convert the readme to markdown for viewing on github."
   ]
  },
  {
   "cell_type": "markdown",
   "metadata": {},
   "source": [
    "## Development\n",
    "\n",
    "Jupyter notebook are the primary mode of development.  The bash script below\n",
    "\n",
    "1. Creates the `readme.md` document for Github.\n",
    "2. Converts `nbd` to a Python sript\n",
    "3. Creates documentation for the notebooks in `nbd`."
   ]
  },
  {
   "cell_type": "code",
   "execution_count": 81,
   "metadata": {},
   "outputs": [
    {
     "name": "stdout",
     "output_type": "stream",
     "text": [
      "docs/usage/basic.ipynb.html\n",
      "docs/readme.ipynb.html\n",
      "docs/nbd.ipynb.html\n"
     ]
    },
    {
     "name": "stderr",
     "output_type": "stream",
     "text": [
      "[NbConvertApp] Converting notebook readme.ipynb to markdown\n",
      "[NbConvertApp] Writing 2181 bytes to readme.md\n",
      "[NbConvertApp] Converting notebook nbd.ipynb to python\n",
      "[NbConvertApp] Writing 8921 bytes to nbd.py\n"
     ]
    }
   ],
   "source": [
    "    %%bash\n",
    "    jupyter nbconvert --to markdown readme.ipynb\n",
    "    jupyter nbconvert --to python nbd.ipynb\n",
    "    python -m nbd --deep --ext ipynb --theme paper --drop-output  --name tonyfast --url https://tonyfast/nbd"
   ]
  },
  {
   "cell_type": "code",
   "execution_count": null,
   "metadata": {
    "collapsed": true
   },
   "outputs": [],
   "source": []
  }
 ],
 "metadata": {
  "kernelspec": {
   "display_name": "Python 3",
   "language": "python",
   "name": "python3"
  },
  "language_info": {
   "codemirror_mode": {
    "name": "ipython",
    "version": 3
   },
   "file_extension": ".py",
   "mimetype": "text/x-python",
   "name": "python",
   "nbconvert_exporter": "python",
   "pygments_lexer": "ipython3",
   "version": "3.5.3"
  }
 },
 "nbformat": 4,
 "nbformat_minor": 2
}
