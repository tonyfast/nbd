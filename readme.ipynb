{
 "cells": [
  {
   "cell_type": "markdown",
   "metadata": {},
   "source": [
    "# It's `no big deal`, it just works.\n",
    "\n",
    "Documentation ∀ files; based on the [`nbformat`](nbformat.readthedocs.io).\n",
    "\n",
    "#### Install with version control\n",
    "\n",
    "`pip install git+`<code><a href=\"https://github.com/tonyfast/nbd/\">https://github.com/tonyfast/nbd/</a></code>\n"
   ]
  },
  {
   "cell_type": "markdown",
   "metadata": {},
   "source": [
    "## Why\n",
    "\n",
    "* `nbconvert` doesn't accept all file formats.  `nbd` adds the concept of loaders\n",
    "that transform arbitrary files to the nbformat."
   ]
  },
  {
   "cell_type": "code",
   "execution_count": 2,
   "metadata": {},
   "outputs": [
    {
     "name": "stdout",
     "output_type": "stream",
     "text": [
      "Overwriting demo.py\n"
     ]
    }
   ],
   "source": [
    "%%file demo.py\n",
    "from nbd import *\n",
    "\n",
    "data = notebook()\n",
    "data.cells.append(markdown('# My Demo Page\\n\\n'))\n",
    "\n",
    "def index(html, resources, name):\n",
    "    data.cells[-1].source += '* [{}]({})\\n'.format(name, name+resources['output_extension'])\n",
    "    \n",
    "def report():\n",
    "    yield 'index', data\n",
    "    \n",
    "c.Docs.notebooks = ['nbd.ipynb', 'readme.md', 'config.py']\n",
    "c.Docs.post, c.Docs.report = index, report"
   ]
  },
  {
   "cell_type": "code",
   "execution_count": 3,
   "metadata": {},
   "outputs": [
    {
     "name": "stdout",
     "output_type": "stream",
     "text": [
      "[Docs] WARNING | pattern 'config.py' matched no files\r\n",
      "[Docs] Converting notebook nbd.ipynb to html\r\n",
      "[Docs] Writing 274307 bytes to docs/demo/nbd.ipynb.html\r\n",
      "[Docs] Converting notebook readme.md to html\r\n",
      "[Docs] Writing 256784 bytes to docs/demo/readme.md.html\r\n",
      "[Docs] Converting notebook into html\r\n",
      "[Docs] Writing 249227 bytes to docs/demo/index.html\r\n"
     ]
    }
   ],
   "source": [
    "!jupyter nbd --output-dir docs/demo --config demo.py"
   ]
  },
  {
   "cell_type": "markdown",
   "metadata": {},
   "source": [
    "## Motivation\n",
    "\n",
    "* An Ipython backed make configuration system\n",
    "* It works for every file"
   ]
  },
  {
   "cell_type": "markdown",
   "metadata": {},
   "source": [
    "## Developer"
   ]
  },
  {
   "cell_type": "code",
   "execution_count": 3,
   "metadata": {},
   "outputs": [
    {
     "name": "stdout",
     "output_type": "stream",
     "text": [
      "[NbConvertApp] Converting notebook config.ipynb to python\r\n",
      "[NbConvertApp] Writing 1376 bytes to ./config.py\r\n",
      "[NbConvertApp] Converting notebook nbd.ipynb to python\r\n",
      "[NbConvertApp] Writing 4789 bytes to ./nbd.py\r\n",
      "parsing nbd.py...\r\n",
      "[NbConvertApp] Converting notebook readme.ipynb to markdown\r\n",
      "[NbConvertApp] Writing 2023 bytes to readme.md\r\n",
      "[Docs] Converting notebook nbd.ipynb to html\r\n",
      "[Docs] Writing 274530 bytes to docs/nbd.ipynb.html\r\n",
      "[Docs] Converting notebook config.ipynb to html\r\n",
      "[Docs] Writing 257051 bytes to docs/config.ipynb.html\r\n",
      "[Docs] Converting notebook config.py to html\r\n",
      "[Docs] Writing 254521 bytes to docs/config.py.html\r\n",
      "[Docs] Converting notebook template.ipynb to html\r\n",
      "[Docs] Writing 250238 bytes to docs/template.ipynb.html\r\n",
      "[Docs] Converting notebook readme.md to html\r\n",
      "[Docs] Writing 256721 bytes to docs/readme.md.html\r\n",
      "[Docs] Converting notebook flake8.txt to html\r\n",
      "[Docs] Writing 261700 bytes to docs/flake8.txt.html\r\n",
      "[Docs] Converting notebook into html\r\n",
      "[Docs] Writing 256401 bytes to docs/index.html\r\n",
      "[Docs] Converting notebook into html\r\n",
      "[Docs] Writing 249084 bytes to docs/schema.html\r\n"
     ]
    }
   ],
   "source": [
    "!jupyter nbconvert --to python config.ipynb nbd.ipynb --output-dir .\n",
    "!flake8 nbd.py --output-file=flake8.txt\n",
    "!pyreverse -o png -p nbd nbd.py\n",
    "!jupyter nbconvert --to markdown readme.ipynb\n",
    "!jupyter nbd --config config.py\n",
    "!mv classes_nbd.png config.py flake8.txt docs\n",
    "!touch docs/custom.css"
   ]
  },
  {
   "cell_type": "markdown",
   "metadata": {},
   "source": [
    "## Views\n",
    "### HTML Views\n",
    "\n",
    "* [Raw Git](https://rawgit.com/tonyfast/nbd/master/docs/index.html)\n",
    "* [Github Pages](https://tonyfast.github.io/nbd)\n",
    "\n",
    "### Notebook Views\n",
    "\n",
    "* [nbviewer](http://nbviewer.jupyter.org/github/tonyfast/nbd/blob/master/readme.ipynb)\n",
    "* [github](https://github.com/tonyfast/nbd/blob/master/usage/readme.ipynb)"
   ]
  },
  {
   "cell_type": "code",
   "execution_count": null,
   "metadata": {},
   "outputs": [],
   "source": []
  }
 ],
 "metadata": {
  "kernelspec": {
   "display_name": "Python 3",
   "language": "python",
   "name": "python3"
  },
  "language_info": {
   "codemirror_mode": {
    "name": "ipython",
    "version": 3
   },
   "file_extension": ".py",
   "mimetype": "text/x-python",
   "name": "python",
   "nbconvert_exporter": "python",
   "pygments_lexer": "ipython3",
   "version": "3.5.3"
  }
 },
 "nbformat": 4,
 "nbformat_minor": 2
}
